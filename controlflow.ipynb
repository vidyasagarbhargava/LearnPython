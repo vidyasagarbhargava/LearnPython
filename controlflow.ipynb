{
 "cells": [
  {
   "cell_type": "markdown",
   "metadata": {},
   "source": [
    "# Control Flow and Loops\n"
   ]
  },
  {
   "cell_type": "markdown",
   "metadata": {},
   "source": [
    "## Control Flow\n",
    "If, Elif, Else statements\n",
    "\n",
    "> Expression in if statement can be complex or simple but it always result in boolean output True or False"
   ]
  },
  {
   "cell_type": "code",
   "execution_count": 1,
   "metadata": {},
   "outputs": [
    {
     "name": "stdout",
     "output_type": "stream",
     "text": [
      "winner is deccan charges\n"
     ]
    }
   ],
   "source": [
    "ipl_season = 2\n",
    "\n",
    "if ipl_season ==  1:\n",
    "    print(\"winner is rajasthan royal\")\n",
    "elif ipl_season == 2:\n",
    "    print(\"winner is deccan charges\")\n",
    "elif ipl_season == 3:\n",
    "    print(\"winner is Chennai Superkings\")\n",
    "else:\n",
    "    print(\"winner after season 3 is not known\")"
   ]
  },
  {
   "cell_type": "code",
   "execution_count": 2,
   "metadata": {},
   "outputs": [
    {
     "name": "stdout",
     "output_type": "stream",
     "text": [
      "There are 3 errors.\n"
     ]
    }
   ],
   "source": [
    "#if else statement for non boolean statement\n",
    "error = 3\n",
    "if error:\n",
    "    print(f\"There are {error} errors.\")\n",
    "else:\n",
    "    print(\"There are no mistakes\")"
   ]
  },
  {
   "cell_type": "code",
   "execution_count": 3,
   "metadata": {},
   "outputs": [
    {
     "name": "stdout",
     "output_type": "stream",
     "text": [
      "There are no mistakes\n"
     ]
    }
   ],
   "source": [
    "error = 0\n",
    "if error:\n",
    "    print(f\"There are {error} errors.\")\n",
    "else:\n",
    "    print(\"There are no mistakes\")"
   ]
  },
  {
   "cell_type": "markdown",
   "metadata": {},
   "source": [
    "**Below are the most of the built-in objects that are considered False in python:**\n",
    "1. Constants defined to be false: None and False.\n",
    "2. Zero of any numeric type: 0, 0.0, 0j, Decimal(0), Fraction(0, 1).\n",
    "3. Empty sequences and collections: '\"\", (), [], {}, set(), range(0)"
   ]
  },
  {
   "cell_type": "markdown",
   "metadata": {},
   "source": [
    "## Loops\n",
    "1. while loop\n",
    "2. for loop"
   ]
  },
  {
   "cell_type": "markdown",
   "metadata": {},
   "source": [
    "### while Loop :-"
   ]
  },
  {
   "cell_type": "code",
   "execution_count": 4,
   "metadata": {},
   "outputs": [
    {
     "name": "stdout",
     "output_type": "stream",
     "text": [
      "1\n",
      "2\n",
      "3\n",
      "4\n",
      "5\n",
      "6\n",
      "7\n",
      "8\n",
      "9\n"
     ]
    }
   ],
   "source": [
    "i=1  #assigning the value\n",
    "while i<10:   #condition\n",
    "    print(i)\n",
    "    i = i+1   #increment or decrement"
   ]
  },
  {
   "cell_type": "markdown",
   "metadata": {},
   "source": [
    "#### nested while loop :-"
   ]
  },
  {
   "cell_type": "code",
   "execution_count": 5,
   "metadata": {},
   "outputs": [
    {
     "name": "stdout",
     "output_type": "stream",
     "text": [
      "Vidya sagar sagar sagar sagar\n",
      "Vidya sagar sagar sagar sagar\n",
      "Vidya sagar sagar sagar sagar\n",
      "Vidya sagar sagar sagar sagar\n",
      "Vidya sagar sagar sagar sagar\n"
     ]
    }
   ],
   "source": [
    "i=1\n",
    "j=1\n",
    "while i<=5:\n",
    "    print(\"Vidya\", end=\"\")\n",
    "    j=1\n",
    "    while j<=4:\n",
    "        print(\" sagar\", end=\"\")\n",
    "        j=j+1\n",
    "    i=i+1\n",
    "    print()\n",
    "        "
   ]
  },
  {
   "cell_type": "markdown",
   "metadata": {},
   "source": [
    "### for Loop :-\n",
    "\n",
    "for loop works with iterable like sequence type tuple, list or strings and non-sequence type dictionary and files."
   ]
  },
  {
   "cell_type": "code",
   "execution_count": 6,
   "metadata": {},
   "outputs": [
    {
     "name": "stdout",
     "output_type": "stream",
     "text": [
      "Vidya\n",
      "32\n",
      "Sagar\n",
      "65\n"
     ]
    }
   ],
   "source": [
    "x = ['Vidya', 32, 'Sagar', 65]\n",
    "for i in x:\n",
    "    print(i)"
   ]
  },
  {
   "cell_type": "code",
   "execution_count": 7,
   "metadata": {},
   "outputs": [
    {
     "name": "stdout",
     "output_type": "stream",
     "text": [
      "['Mumbai', 'Delhi', 'London', 'Newyork']\n"
     ]
    }
   ],
   "source": [
    "#for loop to create list object\n",
    "cities = ['mumbai', 'delhi', 'london', 'newyork']\n",
    "capitalized_cities = []\n",
    "for city in cities:\n",
    "    capitalized_cities.append(city.title())\n",
    "print(capitalized_cities)"
   ]
  },
  {
   "cell_type": "code",
   "execution_count": 8,
   "metadata": {},
   "outputs": [
    {
     "data": {
      "text/plain": [
       "range(0, 4)"
      ]
     },
     "execution_count": 8,
     "metadata": {},
     "output_type": "execute_result"
    }
   ],
   "source": [
    "x = range(4)\n",
    "x"
   ]
  },
  {
   "cell_type": "markdown",
   "metadata": {},
   "source": [
    "you can view value in range object by converting them into list or iterating through it using for loop."
   ]
  },
  {
   "cell_type": "code",
   "execution_count": 9,
   "metadata": {},
   "outputs": [
    {
     "data": {
      "text/plain": [
       "[0, 1, 2, 3]"
      ]
     },
     "execution_count": 9,
     "metadata": {},
     "output_type": "execute_result"
    }
   ],
   "source": [
    "x = list(range(4))\n",
    "x"
   ]
  },
  {
   "cell_type": "code",
   "execution_count": 10,
   "metadata": {},
   "outputs": [
    {
     "name": "stdout",
     "output_type": "stream",
     "text": [
      "0\n",
      "1\n",
      "2\n",
      "3\n"
     ]
    }
   ],
   "source": [
    "for i in x:\n",
    "    print(i)"
   ]
  },
  {
   "cell_type": "code",
   "execution_count": 11,
   "metadata": {},
   "outputs": [
    {
     "name": "stdout",
     "output_type": "stream",
     "text": [
      "['Mumbai', 'Delhi', 'London', 'Newyork']\n"
     ]
    }
   ],
   "source": [
    "cities = ['mumbai', 'delhi', 'london', 'newyork']\n",
    "for index in range(len(cities)):\n",
    "    cities[index] = cities[index].title()\n",
    "print(cities)"
   ]
  },
  {
   "cell_type": "markdown",
   "metadata": {},
   "source": [
    "Print number between 1 and 21 not divisible by 5"
   ]
  },
  {
   "cell_type": "code",
   "execution_count": 12,
   "metadata": {},
   "outputs": [
    {
     "name": "stdout",
     "output_type": "stream",
     "text": [
      "1\n",
      "2\n",
      "3\n",
      "4\n",
      "6\n",
      "7\n",
      "8\n",
      "9\n",
      "11\n",
      "12\n",
      "13\n",
      "14\n",
      "16\n",
      "17\n",
      "18\n",
      "19\n"
     ]
    }
   ],
   "source": [
    "for i in range(1,21):\n",
    "    if i%5 != 0:   \n",
    "        print(i)"
   ]
  },
  {
   "cell_type": "code",
   "execution_count": 13,
   "metadata": {},
   "outputs": [
    {
     "name": "stdout",
     "output_type": "stream",
     "text": [
      "Hi name, and it is sagar\n",
      "Hi age, and it is 30\n",
      "Hi income, and it is 10000\n",
      "Hi home, and it is 3\n"
     ]
    }
   ],
   "source": [
    "#for loops with dictionary\n",
    "mydict = {'name': 'sagar', \n",
    "          'age': 30, \n",
    "          'income':10000, \n",
    "          'home': 3}\n",
    "\n",
    "for k,d in mydict.items():\n",
    "    print(f\"Hi {k}, and it is {d}\")"
   ]
  },
  {
   "cell_type": "markdown",
   "metadata": {},
   "source": [
    "## Break Continue and Pass"
   ]
  },
  {
   "cell_type": "markdown",
   "metadata": {},
   "source": [
    "### 1. Break :- \n",
    "Break is use to jump out of loop"
   ]
  },
  {
   "cell_type": "code",
   "execution_count": 15,
   "metadata": {},
   "outputs": [
    {
     "name": "stdin",
     "output_type": "stream",
     "text": [
      "How many choco you want? 10\n"
     ]
    },
    {
     "name": "stdout",
     "output_type": "stream",
     "text": [
      "Choco\n",
      "Choco\n",
      "Choco\n",
      "Choco\n",
      "Choco\n",
      "Choco\n",
      "Choco\n",
      "Choco\n",
      "Choco\n",
      "Choco\n",
      "end\n"
     ]
    }
   ],
   "source": [
    "#lets take an example for clear understanding\n",
    "\n",
    "available_choco = 10\n",
    "x = int(input(\"How many choco you want?\"))\n",
    "\n",
    "i = 1\n",
    "while i <= x:\n",
    "    if i>available_choco:\n",
    "        print(\"Out of Stock\")\n",
    "        break\n",
    "    print(\"Choco\")\n",
    "    i += 1\n",
    "print(\"end\")"
   ]
  },
  {
   "cell_type": "markdown",
   "metadata": {},
   "source": [
    "### 2. Continue :- \n",
    "continue use to skip the iteration and keep continue the loop\n"
   ]
  },
  {
   "cell_type": "code",
   "execution_count": 16,
   "metadata": {},
   "outputs": [
    {
     "name": "stdout",
     "output_type": "stream",
     "text": [
      "1\n",
      "2\n",
      "4\n",
      "5\n",
      "7\n",
      "8\n",
      "10\n",
      "11\n",
      "13\n",
      "14\n",
      "16\n",
      "17\n",
      "19\n",
      "20\n",
      "end\n"
     ]
    }
   ],
   "source": [
    "#suppose we need to print  1 to 20 but not the one which are divisible by 3\n",
    "for i in range(1,21):\n",
    "    if i%3 == 0:\n",
    "        continue\n",
    "    print(i)\n",
    "print(\"end\")"
   ]
  },
  {
   "cell_type": "markdown",
   "metadata": {},
   "source": [
    "#### Difference between break and continue"
   ]
  },
  {
   "cell_type": "code",
   "execution_count": 17,
   "metadata": {},
   "outputs": [
    {
     "name": "stdout",
     "output_type": "stream",
     "text": [
      "Hello 0\n",
      "Hello 1\n",
      "Hello 2\n",
      "Hello 4\n"
     ]
    }
   ],
   "source": [
    "#continue \n",
    "for i in range(5):\n",
    "    if i==3:\n",
    "        continue\n",
    "    print(\"Hello\", i)"
   ]
  },
  {
   "cell_type": "code",
   "execution_count": 18,
   "metadata": {},
   "outputs": [
    {
     "name": "stdout",
     "output_type": "stream",
     "text": [
      "Hello 0\n",
      "Hello 1\n",
      "Hello 2\n"
     ]
    }
   ],
   "source": [
    "#break\n",
    "for i in range(5):\n",
    "    if i ==3:\n",
    "        break\n",
    "    print(\"Hello\", i)"
   ]
  },
  {
   "cell_type": "markdown",
   "metadata": {},
   "source": [
    "So that means in case of break it simply comes out of loop where as in case of continue just skip condition and move to next."
   ]
  },
  {
   "cell_type": "markdown",
   "metadata": {},
   "source": [
    "### 3. Pass :-\n",
    "\n",
    "pass simply means there is no code simply ignore it"
   ]
  },
  {
   "cell_type": "code",
   "execution_count": 19,
   "metadata": {},
   "outputs": [
    {
     "name": "stdout",
     "output_type": "stream",
     "text": [
      "2\n",
      "4\n",
      "6\n",
      "8\n",
      "10\n",
      "12\n",
      "14\n",
      "16\n",
      "18\n",
      "20\n",
      "end\n"
     ]
    }
   ],
   "source": [
    "\n",
    "# suppose we don't want to print the odd numbers\n",
    "for i in range(1,21):\n",
    "    if(i%2!=0):\n",
    "        pass\n",
    "    else:\n",
    "        print(i)\n",
    "print(\"end\")"
   ]
  }
 ],
 "metadata": {
  "kernelspec": {
   "display_name": "Python 3",
   "language": "python",
   "name": "python3"
  },
  "language_info": {
   "codemirror_mode": {
    "name": "ipython",
    "version": 3
   },
   "file_extension": ".py",
   "mimetype": "text/x-python",
   "name": "python",
   "nbconvert_exporter": "python",
   "pygments_lexer": "ipython3",
   "version": "3.7.7"
  }
 },
 "nbformat": 4,
 "nbformat_minor": 4
}
